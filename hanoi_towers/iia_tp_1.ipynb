{
 "cells": [
  {
   "metadata": {},
   "cell_type": "markdown",
   "source": "# Trabajo práctico  1",
   "id": "e72916459ebc5e08"
  },
  {
   "metadata": {},
   "cell_type": "markdown",
   "source": [
    "## 1)\n",
    "Métrica de performance (P): Poder mover todos los discos a cualquier otra barra distinta de la inicial, de forma tal en que los anillos estén ordenados de forma decreciente (comenzando desde la base).\n",
    "\n",
    "Ambiente (E): El conjunto de barras y discos, y cada disco con su respectivo peso para ser odenado.\n",
    "\n",
    "Actuadores (A): Mover anillos de una barra a otra de forma tal de que un anillo nunca se posicione sobre otro de menor peso.\n",
    "\n",
    "Sensores (S): Observar las barras y la posición de los anillos en ellas."
   ],
   "id": "35ba56a0c16d487d"
  },
  {
   "metadata": {},
   "cell_type": "markdown",
   "source": [
    "## 2)\n",
    "El entorno de trabajo es:\n",
    "- Totalmente observable, ya que el agente puede saber en que posición está cada anillo en cada estado y la totalidad de las barras.\n",
    "- Determinista, ya que no hay agentes externos que interfieran, los pesos de los anillos son estáticos, y la cantidad de barras no varía; en otras palabras, a partir de un estado y un movimiento, siempre se obtiene otro estado resultante, sin importar cuantas veces se realice el experimento.\n",
    "- Secuencial, pues un estado depende del estado anterior y un movimiento.\n",
    "- Discreto, ya que el espacio de estados se despliega de a un movimiento, y es finito.\n",
    "- Estático, ya que no varían las restricciones, pesos de los anillos ni cantidad de barras durante la ejecución.\n",
    "- Agente individual, ya que opera un único agente cuyo objetivo es resolver el problema pasando la torre completa a otra barra.\n",
    "- Episódico, ya que cada ejecución es independiente de las demás."
   ],
   "id": "3ed73170b6246279"
  },
  {
   "metadata": {},
   "cell_type": "markdown",
   "source": [
    "## 3)\n",
    "- Estado: cada estado representa una configuración de anillos en las barras, en donde las barras siempre serán fijas, pero la cantidad de anillos por barra varían en cada estado.\n",
    "- Espacio de estados: por cada estado, se crean estados siguientes con movimientos válidos de anillos. Sean $d$ y $t$ la cantidad de discos y de barras, respectivamente, se generan como máximo $d(t-1)$ estados siguientes a partir de uno dado.\n",
    "- Árbol de búsqueda: espacio de estados junto con costo de transición o penalización por pasar de un estado al siguiente.\n",
    "- Nodo de búsqueda: Un estado con información útil, como por ejemplo penalización o costo por cada transición a un estado siguiente.\n",
    "- Objetivo: trasladar todos los discos a una torre diferente de la inicial.\n",
    "- Acción: mover un disco a la vez de forma válida (cada anillo podrá estar arriba de uno con mayor peso únicamente).\n",
    "- Frontera: estados con configuraciones de anillos que se crearon a partir de uno anterior pero que aún no se evaluaron con respecto a la búsqueda del camino mínimo.\n"
   ],
   "id": "52d4a3053fc82e3b"
  },
  {
   "metadata": {},
   "cell_type": "markdown",
   "source": [
    "## 4)\n",
    "Se optó por implementar el algoritmo A* junto a una serie de heurísticas y tipos de datos abstractos para modelar el problema en cuestión.\n",
    "\n",
    "En principio, se optó por abstraer los componentes del puzzle en tipos de datos abstractos llamados Ring y Tower, siendo los anillos y barras, respectivamente. A priori, estos componentes no tienen lógica, sino que sirven como DTOs. El orden de los anillos se basa en su peso (`weight`), el cual se asigna en su creación.\n",
    "\n",
    "**Importante:** el código fue implementado utilizando Python 3.12."
   ],
   "id": "478511501223f04c"
  },
  {
   "metadata": {
    "ExecuteTime": {
     "end_time": "2024-07-14T20:15:41.479752Z",
     "start_time": "2024-07-14T20:15:41.477426Z"
    }
   },
   "cell_type": "code",
   "source": [
    "from dataclasses import dataclass, field\n",
    "from typing import List\n",
    "from typing import Dict, Optional\n",
    "from queue import PriorityQueue"
   ],
   "id": "29db6d76cf84a103",
   "outputs": [],
   "execution_count": 1
  },
  {
   "metadata": {
    "ExecuteTime": {
     "end_time": "2024-07-14T20:15:41.491245Z",
     "start_time": "2024-07-14T20:15:41.487809Z"
    }
   },
   "cell_type": "code",
   "source": [
    "@dataclass\n",
    "class Ring:\n",
    "    weight: int\n",
    "\n",
    "    def __eq__(self, other):\n",
    "        if other.__class__ is self.__class__:\n",
    "            return self.weight == other.weight\n",
    "        return NotImplemented\n",
    "\n",
    "    def __str__(self):\n",
    "        return f\"{self.weight}\"\n",
    "    \n",
    "@dataclass\n",
    "class Tower:\n",
    "    rings: List[Ring]\n",
    "\n",
    "    @classmethod\n",
    "    def empty(cls) -> \"Tower\":\n",
    "        return Tower([])\n",
    "\n",
    "    def __eq__(self, other):\n",
    "        if other.__class__ is self.__class__:\n",
    "            return len(self.rings) == len(other.rings) and all(r1 == r2 for r1, r2 in zip(self.rings, other.rings))\n",
    "        return NotImplemented\n",
    "\n",
    "    def __str__(self):\n",
    "        return \"{\" + \",\".join(str(ring) for ring in self.rings) + \"}\""
   ],
   "id": "994e4c247ad5de89",
   "outputs": [],
   "execution_count": 2
  },
  {
   "metadata": {},
   "cell_type": "markdown",
   "source": "Además, resultó conveniente definir la clase State, la cual representa un nodo válido del espacio de esatados, el cual, además de contener las estructuras internas para representar el problema, también consta de lógica para poder generar los siguientes estados válidos a partir de sí mismo. Es decir, dado un estado, genera todas las combinaciones de movimientos válidos de todos los anillos que puedan moverse.",
   "id": "5ebefe488cb20789"
  },
  {
   "metadata": {
    "ExecuteTime": {
     "end_time": "2024-07-14T20:15:41.497394Z",
     "start_time": "2024-07-14T20:15:41.492605Z"
    }
   },
   "cell_type": "code",
   "source": [
    "@dataclass(order=True)\n",
    "class State:\n",
    "    priority: float\n",
    "    accumulated_cost: float = field(compare=False)\n",
    "    towers: List[Tower] = field(compare=False)\n",
    "    parent: Optional[\"State\"] = field(compare=False)\n",
    "\n",
    "    @classmethod\n",
    "    def with_towers(cls, towers: List[Tower]) -> \"State\":\n",
    "        return State(priority=0, accumulated_cost=0, towers=towers, parent=None)\n",
    "\n",
    "    def expand(self) -> List[\"State\"]:\n",
    "        \"\"\"\n",
    "        Genera todas las posibles combinaciones de estados válidos a partir del actual, teniendo en cuenta\n",
    "        que cada disco sólo puede moverse por encima de otro de mayor peso. \n",
    "        \"\"\"\n",
    "        new_states = []\n",
    "        for current_tower_index, current_tower in enumerate(self.towers):\n",
    "            if len(current_tower.rings) == 0:\n",
    "                continue\n",
    "\n",
    "            movable_ring = current_tower.rings[0]\n",
    "            for destination_tower_index, destination_tower in enumerate(self.towers):\n",
    "                if destination_tower_index == current_tower_index:\n",
    "                    continue\n",
    "\n",
    "                if len(destination_tower.rings) == 0 or movable_ring.weight < destination_tower.rings[0].weight:\n",
    "                    new_towers = [Tower(tower.rings.copy()) for tower in self.towers]\n",
    "                    new_towers[current_tower_index].rings.pop(0)\n",
    "                    new_towers[destination_tower_index].rings.insert(0, movable_ring)\n",
    "                    new_states.append(\n",
    "                        State(\n",
    "                            priority=0,\n",
    "                            accumulated_cost=self.accumulated_cost + 1,\n",
    "                            towers=new_towers,\n",
    "                            parent=self))\n",
    "        return new_states\n",
    "    \n",
    "    def __eq__(self, other):\n",
    "        if other.__class__ is self.__class__:\n",
    "            return self.towers == other.towers\n",
    "        return NotImplemented\n",
    "\n",
    "    def __str__(self):\n",
    "        return \" + \".join(str(tower) for tower in self.towers)"
   ],
   "id": "ae39a7fb0ebd8184",
   "outputs": [],
   "execution_count": 3
  },
  {
   "metadata": {},
   "cell_type": "markdown",
   "source": "Siendo el algoritmo elegido el A*, el cual consiste en evaluar la suma de los costos de transición entre los nodos para obtener el camino más corto a una solución junto a la utilización de una heurística. En este caso, el costo de un nodo a otro se computó sumando el mismo valor para todos (1), ya que solo importa el conteo de la cantidad de estados intermedios hasta llegar a la solución. Es por ello, que al no tener un costo asociado, se podría haber utilizado BFS, Dijkstra, A*, entre otros; cualquiera hubiese sido apto para este caso. La heurística se pasa por parámetro y consiste en una función arbitraria que aporta información en base al estado actual.",
   "id": "1a2d206890d021d7"
  },
  {
   "metadata": {
    "ExecuteTime": {
     "end_time": "2024-07-14T20:15:41.500925Z",
     "start_time": "2024-07-14T20:15:41.498263Z"
    }
   },
   "cell_type": "code",
   "source": [
    "class AStar:\n",
    "    \n",
    "    def __init__(self, heuristic):\n",
    "        self.heuristic = heuristic\n",
    "\n",
    "    def execute(self, initial_state: State, goal: State) -> Optional[State]:\n",
    "        counter = 0\n",
    "        frontier: PriorityQueue[State] = PriorityQueue()\n",
    "        visited_states: Dict[str, State] = {}\n",
    "\n",
    "        frontier.put(initial_state)\n",
    "\n",
    "        visited_states[str(initial_state)] = initial_state \n",
    "        \n",
    "        while not frontier.empty():\n",
    "            current_state = frontier.get()\n",
    "            \n",
    "            counter += 1\n",
    "            \n",
    "            if current_state == goal:\n",
    "                print(f'Cantidad de pasos dados: {counter}')\n",
    "                return current_state\n",
    "        \n",
    "            for next_state in current_state.expand():\n",
    "\n",
    "                new_cost = current_state.accumulated_cost + 1\n",
    "\n",
    "                visited_next_state = visited_states.get(str(next_state))\n",
    "\n",
    "                if visited_next_state is None or visited_next_state.accumulated_cost > new_cost:\n",
    "                    estimated_left_cost = self.heuristic(next_state, goal)\n",
    "\n",
    "                    next_state.accumulated_cost = new_cost\n",
    "                    next_state.priority = new_cost + estimated_left_cost\n",
    "\n",
    "                    visited_states[str(next_state)] = next_state\n",
    "                    frontier.put(next_state)\n",
    "\n",
    "        return None"
   ],
   "id": "6064f0ad73462d44",
   "outputs": [],
   "execution_count": 4
  },
  {
   "metadata": {},
   "cell_type": "markdown",
   "source": [
    "Se definieron varias heurísticas para evaluarlas individualmente y eventualmente combinar las mejores de ellas. Todas las heurísticas evalúan los estados siguientes del actual, ya que toda información pasada del estado actual será compartida por todos sus estados hijos (siguientes), lo cual no aporta demasiada información.\n",
    "\n",
    "### Heurística 1: por coincidencia en torres\n",
    "A partir de un estado actual, la heurística consiste en evaluar en que barra concentra más anillos uno de sus estados siguientes y los pondera en base a si dicha barra es la misma que la que se tiene en el estado final. Dicho de otra forma, penaliza a un estado siguiente si no concentra la mayoría de sus anillos en la misma barra objetivo. Para ello, se definió la función que devuelve el índice de la barra con la mayor cantidad de anillos. \n",
    "\n"
   ],
   "id": "45121531b3e188ab"
  },
  {
   "metadata": {
    "ExecuteTime": {
     "end_time": "2024-07-14T20:15:41.503251Z",
     "start_time": "2024-07-14T20:15:41.501680Z"
    }
   },
   "cell_type": "code",
   "source": [
    "def tower_coincidence_heuristic(next_state: State, goal_state: State):    \n",
    "    def most_populated_tower(towers: List[Tower]) -> int:\n",
    "        indexed_rings_number = [len(tower.rings) for tower in towers]\n",
    "        most_populated_tower = max(indexed_rings_number)\n",
    "        return indexed_rings_number.index(most_populated_tower)\n",
    "    \n",
    "    if most_populated_tower(next_state.towers) == most_populated_tower(goal_state.towers):\n",
    "        return -1\n",
    "    return 1"
   ],
   "id": "eb0faf74af79f743",
   "outputs": [],
   "execution_count": 5
  },
  {
   "metadata": {},
   "cell_type": "markdown",
   "source": [
    "### Heurística 2: por anillos a mover hasta el objetivo\n",
    "Consiste en contar la cantidad de anillos en las torres que no coincidan con las torres obetivo; esa es la cantidad de anillos que habrá que hacer hasta llegar al objetivo. Mientras más falten mover, mayor será el costo del siguiente estado."
   ],
   "id": "f64e18e752f9ee79"
  },
  {
   "metadata": {
    "ExecuteTime": {
     "end_time": "2024-07-14T20:15:41.505632Z",
     "start_time": "2024-07-14T20:15:41.503887Z"
    }
   },
   "cell_type": "code",
   "source": [
    "def rings_to_be_moved_heuristic(next_state: State, goal_state: State) -> int:\n",
    "    goal_tower = next(tower for tower in goal_state.towers if tower.rings)\n",
    "    rings_to_be_moved = 0\n",
    "    \n",
    "    for next_tower in next_state.towers:\n",
    "        for ring in next_tower.rings:\n",
    "            if ring not in goal_tower.rings:\n",
    "                rings_to_be_moved += 1\n",
    "                \n",
    "    return rings_to_be_moved"
   ],
   "id": "aa50363be9598270",
   "outputs": [],
   "execution_count": 6
  },
  {
   "metadata": {},
   "cell_type": "markdown",
   "source": [
    "### Heurística 2: por distancia manhattan entre posiciones de anillos\n",
    "Se obtiene el índice de la posición de los anillos y se calcula la distancia entre la posición actual y la posición de la torre objetivo. Además, se tienen en cuenta los índices de las barras en las que están actualmente, contra el índice de la barra objetivo."
   ],
   "id": "b2903a88f56fd836"
  },
  {
   "metadata": {
    "ExecuteTime": {
     "end_time": "2024-07-14T20:15:41.508691Z",
     "start_time": "2024-07-14T20:15:41.506862Z"
    }
   },
   "cell_type": "code",
   "source": [
    "def manhattan_distance_heuristic(next_state: State, goal_state: State) -> int:\n",
    "    goal_tower_index = next(i for i, tower in enumerate(goal_state.towers) if tower.rings) \n",
    "    goal_tower_rings = goal_state.towers[goal_tower_index].rings\n",
    "    total_distance = 0\n",
    "    \n",
    "    for next_tower_index, next_tower in enumerate(next_state.towers):\n",
    "        for next_ring_index, next_ring in enumerate(next_tower.rings):\n",
    "            goal_ring_index = goal_tower_rings.index(next_ring)\n",
    "            total_distance += abs(goal_tower_index - next_tower_index) + abs(goal_ring_index - next_tower_index)\n",
    "\n",
    "    return total_distance\n"
   ],
   "id": "40ead25b38db5608",
   "outputs": [],
   "execution_count": 7
  },
  {
   "metadata": {},
   "cell_type": "markdown",
   "source": "Se instancia el algoritmo de búsqueda A* tres veces con el mismo estado inicial pero con diferentes heurísticas. ",
   "id": "8c8f0ea4427784d9"
  },
  {
   "metadata": {
    "ExecuteTime": {
     "end_time": "2024-07-14T20:15:41.883145Z",
     "start_time": "2024-07-14T20:15:41.510545Z"
    }
   },
   "cell_type": "code",
   "source": [
    "def run_algorithm(heuristic):\n",
    "    initial_state_towers = [Tower([Ring(weight=w) for w in range(8)]), Tower([]), Tower([])]\n",
    "    initial_state = State.with_towers(initial_state_towers)\n",
    "    \n",
    "    goal_state_towers = [Tower([]), Tower([]), Tower([Ring(weight=w) for w in range(8)])]\n",
    "    goal = State.with_towers(goal_state_towers)\n",
    "    \n",
    "    search_algorithm = AStar(heuristic)\n",
    "    result = search_algorithm.execute(initial_state, goal)\n",
    "    print(f\"Resultado: {result}\")\n",
    "\n",
    "run_algorithm(tower_coincidence_heuristic)\n",
    "run_algorithm(rings_to_be_moved_heuristic)\n",
    "run_algorithm(manhattan_distance_heuristic)"
   ],
   "id": "abbfc286bcb8e77c",
   "outputs": [
    {
     "name": "stdout",
     "output_type": "stream",
     "text": [
      "Cantidad de pasos dados: 6387\n",
      "Resultado: {} + {} + {0,1,2,3,4,5,6,7}\n",
      "Cantidad de pasos dados: 6467\n",
      "Resultado: {} + {} + {0,1,2,3,4,5,6,7}\n",
      "Cantidad de pasos dados: 6175\n",
      "Resultado: {} + {} + {0,1,2,3,4,5,6,7}\n"
     ]
    }
   ],
   "execution_count": 8
  },
  {
   "metadata": {},
   "cell_type": "markdown",
   "source": "Puede verse que la mejor heurística fue la distancia manhattan, seguido por la de coincidencia de torres, dejando atras a la heurística de movimientos necesarios. Por ello, probaremos la combinación de las dos mejores como heurística.",
   "id": "23e9bca7d13f37c"
  },
  {
   "metadata": {
    "ExecuteTime": {
     "end_time": "2024-07-14T20:15:42.024125Z",
     "start_time": "2024-07-14T20:15:41.884034Z"
    }
   },
   "cell_type": "code",
   "source": [
    "def combined(next_state: State, goal_state: State) -> int:\n",
    "    return (tower_coincidence_heuristic(next_state, goal_state) +\n",
    "            manhattan_distance_heuristic(next_state, goal_state))\n",
    "\n",
    "run_algorithm(combined)"
   ],
   "id": "2c18fd26ca56415e",
   "outputs": [
    {
     "name": "stdout",
     "output_type": "stream",
     "text": [
      "Cantidad de pasos dados: 6145\n",
      "Resultado: {} + {} + {0,1,2,3,4,5,6,7}\n"
     ]
    }
   ],
   "execution_count": 9
  },
  {
   "metadata": {},
   "cell_type": "markdown",
   "source": "Mejora el resultado por poco, lo cual lo hace despreciable frente al procesamiento adicional que supone frente a la utilización de la heurística basada en la distnaica manhattan sin otra combinación.",
   "id": "521e51b896cda18e"
  },
  {
   "metadata": {},
   "cell_type": "markdown",
   "source": [
    "## 5\n",
    "### Complejidad temporal\n",
    "Sea $D$ el conjunto de discos de tamaño $d$ y $t$ la cantidad de barras del problema, tenemos que para cada estado, los anillos que puedan moverse (los que estén en el tope), pueden moverse a lo sumo de $(t-1)$ veces, es decior, a culquiera de las demás barras. Esto ocurre solamente cuando el anillo a mover es el de menor peso. Luego, cada anillo siguiente podrá moverse a cualquier otra torre excepto a aquellas que posean anillos con menor peso que el. Entonces, en general, definimos $M(D_i)$ como la cantidad de movimientos para cada anillo $D_i$, el cual viene dado por la cantidad de torres como $M(D_i)=t-i-1$, ya que podrá moverse en tanto no sea el más pesado $i=d$ y a medida que sea más liviano ($i=0$) tendrá más libertad de movimiento. Ahora bien, no todos los anillos pueden moverse, ya que sólo lo harán aquellos que se encuentren en el tope de cada barra; es decir, a lo sumo $t-1$ anillos podrán moverse por cada estado, ya que siempre hay uno más pesado que el resto que no podrá hacerlo. Entonces, por cada estado se general a lo sumo $(t-1)M(D_i)$ movimientos posibles. En el peor de los casos, M(D_i=0)=t-1, por lo que cada estado tendrá en el peor de los casos $(t-1)(t-1)$ movimientos. Como podemos tener un máximo de $t^d$ estados, tenemos que el peor caso viene dado por $O\\left((t-1)(t-1){t^d}\\right)$. No obstante, cada vez que se generan estados, se insertan en una cola de prioridad, lo cual conlleva algunos pasos adicionales; si por cada estado podemos generar $(t-1)(t-1)$ estados siguientes, y la complejidad de insertar un elemento en una cola de prioridad es de $log n$ con $n$ como la cantidad de elementos en la cola, en donde en el peor de los casos puede ser $t^d$, entonces la expresión se actualiza como. Por otro lado, dentro del mismo loop que la inserción y recuperación de elementos de la frontera, las heurísticas poseen una complejidad propia. En el caso de la combinada consistente en manhattan y los anillos restantes por mover, ambas iteran sobre torres y luego, de forma anidada, sobre anillos en cada torre. En el peor de los casos tenemos $t*d$ pasos por cada uno, pero como se ejecutan secuencialmente, nos quedamos con el máximo peor caso entre ellos (como son iguales, es $t*d$). Luego, nos quedamos con el máximo entre la complejidad de la heurística y la utilización de la cola. Luego, la complejidad temporal completa queda definida como $O\\left (t^d(t-1)(t-1) max\\left(log(t^d) + td\\right)\\right)=O\\left (t^d(t-1)(t-1) td \\right)$. Simplificando, tenemos $O(t^{d+1}(t-1)^2d)$.\n",
    "\n",
    "### Complejidad espacial\n",
    "Como hay $t^d$ estados posibles y cada barra puede tener todos los discos en el peor de los casos, tenemos que el peor caso de la complejidad espacial viene dada por $O\\left(t^dd \\right)$."
   ],
   "id": "ae31854520246367"
  },
  {
   "metadata": {},
   "cell_type": "markdown",
   "source": [
    "## 6\n",
    "A continuación se listan las métricas de tiempo de ejecución y de memoria del algoritmo con la heurística combinada"
   ],
   "id": "2be2669c363b57b1"
  },
  {
   "metadata": {
    "ExecuteTime": {
     "end_time": "2024-07-14T20:15:43.601263Z",
     "start_time": "2024-07-14T20:15:42.024767Z"
    }
   },
   "cell_type": "code",
   "source": [
    "!pip install memory_profiler\n",
    "!pip install numpy "
   ],
   "id": "256fbe32aa64f2ab",
   "outputs": [
    {
     "name": "stdout",
     "output_type": "stream",
     "text": [
      "Requirement already satisfied: memory_profiler in /Users/tomasjuarez/dev/ceia/ia/entregables/hanoi/.venv/lib/python3.12/site-packages (0.61.0)\r\n",
      "Requirement already satisfied: psutil in /Users/tomasjuarez/dev/ceia/ia/entregables/hanoi/.venv/lib/python3.12/site-packages (from memory_profiler) (6.0.0)\r\n",
      "\r\n",
      "\u001B[1m[\u001B[0m\u001B[34;49mnotice\u001B[0m\u001B[1;39;49m]\u001B[0m\u001B[39;49m A new release of pip is available: \u001B[0m\u001B[31;49m23.2.1\u001B[0m\u001B[39;49m -> \u001B[0m\u001B[32;49m24.1.2\u001B[0m\r\n",
      "\u001B[1m[\u001B[0m\u001B[34;49mnotice\u001B[0m\u001B[1;39;49m]\u001B[0m\u001B[39;49m To update, run: \u001B[0m\u001B[32;49mpip install --upgrade pip\u001B[0m\r\n",
      "Requirement already satisfied: numpy in /Users/tomasjuarez/dev/ceia/ia/entregables/hanoi/.venv/lib/python3.12/site-packages (2.0.0)\r\n",
      "\r\n",
      "\u001B[1m[\u001B[0m\u001B[34;49mnotice\u001B[0m\u001B[1;39;49m]\u001B[0m\u001B[39;49m A new release of pip is available: \u001B[0m\u001B[31;49m23.2.1\u001B[0m\u001B[39;49m -> \u001B[0m\u001B[32;49m24.1.2\u001B[0m\r\n",
      "\u001B[1m[\u001B[0m\u001B[34;49mnotice\u001B[0m\u001B[1;39;49m]\u001B[0m\u001B[39;49m To update, run: \u001B[0m\u001B[32;49mpip install --upgrade pip\u001B[0m\r\n"
     ]
    }
   ],
   "execution_count": 10
  },
  {
   "metadata": {
    "ExecuteTime": {
     "end_time": "2024-07-14T20:15:43.641647Z",
     "start_time": "2024-07-14T20:15:43.602744Z"
    }
   },
   "cell_type": "code",
   "source": "%load_ext memory_profiler",
   "id": "4be5565bb94ce1fc",
   "outputs": [],
   "execution_count": 11
  },
  {
   "metadata": {
    "ExecuteTime": {
     "end_time": "2024-07-14T20:15:53.554800Z",
     "start_time": "2024-07-14T20:15:43.642328Z"
    }
   },
   "cell_type": "code",
   "source": [
    "%%timeit\n",
    "run_algorithm(combined)"
   ],
   "id": "7d426f5a598e72f6",
   "outputs": [
    {
     "name": "stdout",
     "output_type": "stream",
     "text": [
      "Cantidad de pasos dados: 6145\n",
      "Resultado: {} + {} + {0,1,2,3,4,5,6,7}\n",
      "Cantidad de pasos dados: 6145\n",
      "Resultado: {} + {} + {0,1,2,3,4,5,6,7}\n",
      "Cantidad de pasos dados: 6145\n",
      "Resultado: {} + {} + {0,1,2,3,4,5,6,7}\n",
      "Cantidad de pasos dados: 6145\n",
      "Resultado: {} + {} + {0,1,2,3,4,5,6,7}\n",
      "Cantidad de pasos dados: 6145\n",
      "Resultado: {} + {} + {0,1,2,3,4,5,6,7}\n",
      "Cantidad de pasos dados: 6145\n",
      "Resultado: {} + {} + {0,1,2,3,4,5,6,7}\n",
      "Cantidad de pasos dados: 6145\n",
      "Resultado: {} + {} + {0,1,2,3,4,5,6,7}\n",
      "Cantidad de pasos dados: 6145\n",
      "Resultado: {} + {} + {0,1,2,3,4,5,6,7}\n",
      "Cantidad de pasos dados: 6145\n",
      "Resultado: {} + {} + {0,1,2,3,4,5,6,7}\n",
      "Cantidad de pasos dados: 6145\n",
      "Resultado: {} + {} + {0,1,2,3,4,5,6,7}\n",
      "Cantidad de pasos dados: 6145\n",
      "Resultado: {} + {} + {0,1,2,3,4,5,6,7}\n",
      "Cantidad de pasos dados: 6145\n",
      "Resultado: {} + {} + {0,1,2,3,4,5,6,7}\n",
      "Cantidad de pasos dados: 6145\n",
      "Resultado: {} + {} + {0,1,2,3,4,5,6,7}\n",
      "Cantidad de pasos dados: 6145\n",
      "Resultado: {} + {} + {0,1,2,3,4,5,6,7}\n",
      "Cantidad de pasos dados: 6145\n",
      "Resultado: {} + {} + {0,1,2,3,4,5,6,7}\n",
      "Cantidad de pasos dados: 6145\n",
      "Resultado: {} + {} + {0,1,2,3,4,5,6,7}\n",
      "Cantidad de pasos dados: 6145\n",
      "Resultado: {} + {} + {0,1,2,3,4,5,6,7}\n",
      "Cantidad de pasos dados: 6145\n",
      "Resultado: {} + {} + {0,1,2,3,4,5,6,7}\n",
      "Cantidad de pasos dados: 6145\n",
      "Resultado: {} + {} + {0,1,2,3,4,5,6,7}\n",
      "Cantidad de pasos dados: 6145\n",
      "Resultado: {} + {} + {0,1,2,3,4,5,6,7}\n",
      "Cantidad de pasos dados: 6145\n",
      "Resultado: {} + {} + {0,1,2,3,4,5,6,7}\n",
      "Cantidad de pasos dados: 6145\n",
      "Resultado: {} + {} + {0,1,2,3,4,5,6,7}\n",
      "Cantidad de pasos dados: 6145\n",
      "Resultado: {} + {} + {0,1,2,3,4,5,6,7}\n",
      "Cantidad de pasos dados: 6145\n",
      "Resultado: {} + {} + {0,1,2,3,4,5,6,7}\n",
      "Cantidad de pasos dados: 6145\n",
      "Resultado: {} + {} + {0,1,2,3,4,5,6,7}\n",
      "Cantidad de pasos dados: 6145\n",
      "Resultado: {} + {} + {0,1,2,3,4,5,6,7}\n",
      "Cantidad de pasos dados: 6145\n",
      "Resultado: {} + {} + {0,1,2,3,4,5,6,7}\n",
      "Cantidad de pasos dados: 6145\n",
      "Resultado: {} + {} + {0,1,2,3,4,5,6,7}\n",
      "Cantidad de pasos dados: 6145\n",
      "Resultado: {} + {} + {0,1,2,3,4,5,6,7}\n",
      "Cantidad de pasos dados: 6145\n",
      "Resultado: {} + {} + {0,1,2,3,4,5,6,7}\n",
      "Cantidad de pasos dados: 6145\n",
      "Resultado: {} + {} + {0,1,2,3,4,5,6,7}\n",
      "Cantidad de pasos dados: 6145\n",
      "Resultado: {} + {} + {0,1,2,3,4,5,6,7}\n",
      "Cantidad de pasos dados: 6145\n",
      "Resultado: {} + {} + {0,1,2,3,4,5,6,7}\n",
      "Cantidad de pasos dados: 6145\n",
      "Resultado: {} + {} + {0,1,2,3,4,5,6,7}\n",
      "Cantidad de pasos dados: 6145\n",
      "Resultado: {} + {} + {0,1,2,3,4,5,6,7}\n",
      "Cantidad de pasos dados: 6145\n",
      "Resultado: {} + {} + {0,1,2,3,4,5,6,7}\n",
      "Cantidad de pasos dados: 6145\n",
      "Resultado: {} + {} + {0,1,2,3,4,5,6,7}\n",
      "Cantidad de pasos dados: 6145\n",
      "Resultado: {} + {} + {0,1,2,3,4,5,6,7}\n",
      "Cantidad de pasos dados: 6145\n",
      "Resultado: {} + {} + {0,1,2,3,4,5,6,7}\n",
      "Cantidad de pasos dados: 6145\n",
      "Resultado: {} + {} + {0,1,2,3,4,5,6,7}\n",
      "Cantidad de pasos dados: 6145\n",
      "Resultado: {} + {} + {0,1,2,3,4,5,6,7}\n",
      "Cantidad de pasos dados: 6145\n",
      "Resultado: {} + {} + {0,1,2,3,4,5,6,7}\n",
      "Cantidad de pasos dados: 6145\n",
      "Resultado: {} + {} + {0,1,2,3,4,5,6,7}\n",
      "Cantidad de pasos dados: 6145\n",
      "Resultado: {} + {} + {0,1,2,3,4,5,6,7}\n",
      "Cantidad de pasos dados: 6145\n",
      "Resultado: {} + {} + {0,1,2,3,4,5,6,7}\n",
      "Cantidad de pasos dados: 6145\n",
      "Resultado: {} + {} + {0,1,2,3,4,5,6,7}\n",
      "Cantidad de pasos dados: 6145\n",
      "Resultado: {} + {} + {0,1,2,3,4,5,6,7}\n",
      "Cantidad de pasos dados: 6145\n",
      "Resultado: {} + {} + {0,1,2,3,4,5,6,7}\n",
      "Cantidad de pasos dados: 6145\n",
      "Resultado: {} + {} + {0,1,2,3,4,5,6,7}\n",
      "Cantidad de pasos dados: 6145\n",
      "Resultado: {} + {} + {0,1,2,3,4,5,6,7}\n",
      "Cantidad de pasos dados: 6145\n",
      "Resultado: {} + {} + {0,1,2,3,4,5,6,7}\n",
      "Cantidad de pasos dados: 6145\n",
      "Resultado: {} + {} + {0,1,2,3,4,5,6,7}\n",
      "Cantidad de pasos dados: 6145\n",
      "Resultado: {} + {} + {0,1,2,3,4,5,6,7}\n",
      "Cantidad de pasos dados: 6145\n",
      "Resultado: {} + {} + {0,1,2,3,4,5,6,7}\n",
      "Cantidad de pasos dados: 6145\n",
      "Resultado: {} + {} + {0,1,2,3,4,5,6,7}\n",
      "Cantidad de pasos dados: 6145\n",
      "Resultado: {} + {} + {0,1,2,3,4,5,6,7}\n",
      "Cantidad de pasos dados: 6145\n",
      "Resultado: {} + {} + {0,1,2,3,4,5,6,7}\n",
      "Cantidad de pasos dados: 6145\n",
      "Resultado: {} + {} + {0,1,2,3,4,5,6,7}\n",
      "Cantidad de pasos dados: 6145\n",
      "Resultado: {} + {} + {0,1,2,3,4,5,6,7}\n",
      "Cantidad de pasos dados: 6145\n",
      "Resultado: {} + {} + {0,1,2,3,4,5,6,7}\n",
      "Cantidad de pasos dados: 6145\n",
      "Resultado: {} + {} + {0,1,2,3,4,5,6,7}\n",
      "Cantidad de pasos dados: 6145\n",
      "Resultado: {} + {} + {0,1,2,3,4,5,6,7}\n",
      "Cantidad de pasos dados: 6145\n",
      "Resultado: {} + {} + {0,1,2,3,4,5,6,7}\n",
      "Cantidad de pasos dados: 6145\n",
      "Resultado: {} + {} + {0,1,2,3,4,5,6,7}\n",
      "Cantidad de pasos dados: 6145\n",
      "Resultado: {} + {} + {0,1,2,3,4,5,6,7}\n",
      "Cantidad de pasos dados: 6145\n",
      "Resultado: {} + {} + {0,1,2,3,4,5,6,7}\n",
      "Cantidad de pasos dados: 6145\n",
      "Resultado: {} + {} + {0,1,2,3,4,5,6,7}\n",
      "Cantidad de pasos dados: 6145\n",
      "Resultado: {} + {} + {0,1,2,3,4,5,6,7}\n",
      "Cantidad de pasos dados: 6145\n",
      "Resultado: {} + {} + {0,1,2,3,4,5,6,7}\n",
      "Cantidad de pasos dados: 6145\n",
      "Resultado: {} + {} + {0,1,2,3,4,5,6,7}\n",
      "Cantidad de pasos dados: 6145\n",
      "Resultado: {} + {} + {0,1,2,3,4,5,6,7}\n",
      "Cantidad de pasos dados: 6145\n",
      "Resultado: {} + {} + {0,1,2,3,4,5,6,7}\n",
      "Cantidad de pasos dados: 6145\n",
      "Resultado: {} + {} + {0,1,2,3,4,5,6,7}\n",
      "Cantidad de pasos dados: 6145\n",
      "Resultado: {} + {} + {0,1,2,3,4,5,6,7}\n",
      "Cantidad de pasos dados: 6145\n",
      "Resultado: {} + {} + {0,1,2,3,4,5,6,7}\n",
      "Cantidad de pasos dados: 6145\n",
      "Resultado: {} + {} + {0,1,2,3,4,5,6,7}\n",
      "Cantidad de pasos dados: 6145\n",
      "Resultado: {} + {} + {0,1,2,3,4,5,6,7}\n",
      "Cantidad de pasos dados: 6145\n",
      "Resultado: {} + {} + {0,1,2,3,4,5,6,7}\n",
      "Cantidad de pasos dados: 6145\n",
      "Resultado: {} + {} + {0,1,2,3,4,5,6,7}\n",
      "Cantidad de pasos dados: 6145\n",
      "Resultado: {} + {} + {0,1,2,3,4,5,6,7}\n",
      "Cantidad de pasos dados: 6145\n",
      "Resultado: {} + {} + {0,1,2,3,4,5,6,7}\n",
      "122 ms ± 774 μs per loop (mean ± std. dev. of 7 runs, 10 loops each)\n"
     ]
    }
   ],
   "execution_count": 12
  },
  {
   "metadata": {
    "ExecuteTime": {
     "end_time": "2024-07-14T20:15:58.214126Z",
     "start_time": "2024-07-14T20:15:53.555430Z"
    }
   },
   "cell_type": "code",
   "source": [
    "import numpy as np\n",
    "from memory_profiler import memory_usage\n",
    "\n",
    "def memory_wrapper():\n",
    "    run_algorithm(combined)\n",
    "\n",
    "runs = 7\n",
    "mem_usages = []\n",
    "\n",
    "for _ in range(runs):\n",
    "   mem_usages.append(max(memory_usage(memory_wrapper, retval=False)))\n",
    "\n",
    "mean = np.mean(mem_usages)\n",
    "standard_deviation = np.std(mem_usages)\n",
    "\n",
    "print(f'{mean:.6f} MiB ± {standard_deviation:.6f} MiB (mean ± std. dev. of {runs} runs)')"
   ],
   "id": "2669de591108e9b6",
   "outputs": [
    {
     "name": "stdout",
     "output_type": "stream",
     "text": [
      "Cantidad de pasos dados: 6145\n",
      "Resultado: {} + {} + {0,1,2,3,4,5,6,7}\n",
      "Cantidad de pasos dados: 6145\n",
      "Resultado: {} + {} + {0,1,2,3,4,5,6,7}\n",
      "Cantidad de pasos dados: 6145\n",
      "Resultado: {} + {} + {0,1,2,3,4,5,6,7}\n",
      "Cantidad de pasos dados: 6145\n",
      "Resultado: {} + {} + {0,1,2,3,4,5,6,7}\n",
      "Cantidad de pasos dados: 6145\n",
      "Resultado: {} + {} + {0,1,2,3,4,5,6,7}\n",
      "Cantidad de pasos dados: 6145\n",
      "Resultado: {} + {} + {0,1,2,3,4,5,6,7}\n",
      "Cantidad de pasos dados: 6145\n",
      "Resultado: {} + {} + {0,1,2,3,4,5,6,7}\n",
      "Cantidad de pasos dados: 6145\n",
      "Resultado: {} + {} + {0,1,2,3,4,5,6,7}\n",
      "Cantidad de pasos dados: 6145\n",
      "Resultado: {} + {} + {0,1,2,3,4,5,6,7}\n",
      "Cantidad de pasos dados: 6145\n",
      "Resultado: {} + {} + {0,1,2,3,4,5,6,7}\n",
      "Cantidad de pasos dados: 6145\n",
      "Resultado: {} + {} + {0,1,2,3,4,5,6,7}\n",
      "Cantidad de pasos dados: 6145\n",
      "Resultado: {} + {} + {0,1,2,3,4,5,6,7}\n",
      "Cantidad de pasos dados: 6145\n",
      "Resultado: {} + {} + {0,1,2,3,4,5,6,7}\n",
      "Cantidad de pasos dados: 6145\n",
      "Resultado: {} + {} + {0,1,2,3,4,5,6,7}\n",
      "83.948661 MiB ± 0.007059 MiB (mean ± std. dev. of 7 runs)\n"
     ]
    }
   ],
   "execution_count": 13
  },
  {
   "metadata": {},
   "cell_type": "markdown",
   "source": "Vemos entonces que el tiempo de ejecución promedio fue de 127ms con una desviación estándar de 1.15ms. En el caso de la memoria, la media fue de 95.00690 con una desviación estándar de 0.170317. No obstante, no son métricas certeras pues depende del estado del sistema operativo. ",
   "id": "c0afa36114c3466"
  },
  {
   "metadata": {},
   "cell_type": "markdown",
   "source": [
    "# 7\n",
    "Suponendo que tenemos $d=8$ anillos, y que el caso óptimo es $2^d-1=255$, y tomando el mejor resultado consistente en la heurística combinada, la cual resolvió el problema en $6145$, podemos ver que dista de la solución óptima por 5890 pasos. Como las salidas son estáticas, no calculé el promedio, sino que utilicé la salida directamente."
   ],
   "id": "44c1a3d9d9f28f43"
  }
 ],
 "metadata": {
  "kernelspec": {
   "display_name": "Python 3",
   "language": "python",
   "name": "python3"
  },
  "language_info": {
   "codemirror_mode": {
    "name": "ipython",
    "version": 2
   },
   "file_extension": ".py",
   "mimetype": "text/x-python",
   "name": "python",
   "nbconvert_exporter": "python",
   "pygments_lexer": "ipython2",
   "version": "2.7.6"
  }
 },
 "nbformat": 4,
 "nbformat_minor": 5
}
